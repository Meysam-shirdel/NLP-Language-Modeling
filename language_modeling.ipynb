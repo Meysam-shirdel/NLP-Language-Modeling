{
  "cells": [
    {
      "cell_type": "markdown",
      "metadata": {
        "id": "w_a3OXnSeV0z"
      },
      "source": [
        "#  **Import Libs**"
      ]
    },
    {
      "cell_type": "code",
      "execution_count": null,
      "metadata": {
        "colab": {
          "base_uri": "https://localhost:8080/",
          "height": 0
        },
        "id": "HOxHwsBJu6sr",
        "outputId": "b060cab2-4d7e-467d-f7da-8652a08b577e"
      },
      "outputs": [],
      "source": [
        "!pip install -q torchmetrics\n",
        "!pip install -q portalocker\n",
        "!pip install -q wandb\n",
        "!pip install -q torcheval"
      ]
    },
    {
      "cell_type": "code",
      "execution_count": null,
      "metadata": {
        "colab": {
          "base_uri": "https://localhost:8080/",
          "height": 0
        },
        "id": "vhlVJEkJeTsV",
        "outputId": "6fb887a1-387f-4f3d-d79b-682d004cec3c"
      },
      "outputs": [],
      "source": [
        "import numpy as np\n",
        "import pandas as pd\n",
        "import matplotlib.pyplot as plt\n",
        "import seaborn as sns\n",
        "\n",
        "import portalocker\n",
        "\n",
        "import torchtext\n",
        "import torchtext.models as models\n",
        "from torchtext.data import get_tokenizer\n",
        "from torchtext.datasets import WikiText2\n",
        "from torchtext.vocab import build_vocab_from_iterator\n",
        "\n",
        "import torch\n",
        "from torch import nn\n",
        "\n",
        "from torch.utils.data import DataLoader, Dataset, random_split\n",
        "\n",
        "from torch import optim\n",
        "from torch.nn import functional as F\n",
        "\n",
        "from torcheval.metrics.text import Perplexity\n",
        "\n",
        "import tqdm\n",
        "import torchmetrics as tm\n",
        "import wandb\n",
        "\n",
        "import io\n",
        "import os\n",
        "from collections import Counter\n",
        "\n",
        "import ipywidgets as widgets\n",
        "from IPython.display import display"
      ]
    },
    {
      "cell_type": "markdown",
      "metadata": {
        "id": "RwaY_YcgRayy"
      },
      "source": [
        "#  **Utils**"
      ]
    },
    {
      "cell_type": "code",
      "execution_count": 9,
      "metadata": {
        "colab": {
          "base_uri": "https://localhost:8080/",
          "height": 0
        },
        "id": "8yMS7bbmRayz",
        "outputId": "effed39d-e838-4e30-d22b-18d4931d29f2"
      },
      "outputs": [
        {
          "data": {
            "text/html": [
              "<style>\n",
              "  body{\n",
              "    font-size: 16px;\n",
              "  } "
            ],
            "text/plain": [
              "<IPython.core.display.HTML object>"
            ]
          },
          "metadata": {},
          "output_type": "display_data"
        }
      ],
      "source": [
        "class AverageMeter(object):\n",
        "    \"\"\"Computes and stores the average and current value\"\"\"\n",
        "    def __init__(self):\n",
        "        self.reset()\n",
        "\n",
        "    def reset(self):\n",
        "        self.val = 0\n",
        "        self.avg = 0\n",
        "        self.sum = 0\n",
        "        self.count = 0\n",
        "\n",
        "    def update(self, val, n=1):\n",
        "        self.val = val\n",
        "        self.sum += val * n\n",
        "        self.count += n\n",
        "        self.avg = self.sum / self.count"
      ]
    },
    {
      "cell_type": "code",
      "execution_count": 10,
      "metadata": {
        "colab": {
          "base_uri": "https://localhost:8080/",
          "height": 0
        },
        "id": "PpKbTUEIRayz",
        "outputId": "63699a54-6340-42bb-869e-8a1da63061d5"
      },
      "outputs": [
        {
          "data": {
            "text/html": [
              "<style>\n",
              "  body{\n",
              "    font-size: 16px;\n",
              "  } "
            ],
            "text/plain": [
              "<IPython.core.display.HTML object>"
            ]
          },
          "metadata": {},
          "output_type": "display_data"
        }
      ],
      "source": [
        "def num_trainable_params(model):\n",
        "  nums = sum(p.numel() for p in model.parameters() if p.requires_grad)/1e6\n",
        "  return nums"
      ]
    },
    {
      "cell_type": "markdown",
      "metadata": {
        "id": "RTql4Ftiunfr"
      },
      "source": [
        "#  **Dataset**"
      ]
    },
    {
      "cell_type": "markdown",
      "metadata": {
        "id": "ujIVtjsYvxOI"
      },
      "source": [
        "## 1- **Load the Dataset**"
      ]
    },
    {
      "cell_type": "code",
      "execution_count": null,
      "metadata": {
        "colab": {
          "base_uri": "https://localhost:8080/",
          "height": 37
        },
        "id": "ShYpXvVzVmP6",
        "outputId": "93de6212-79af-4af9-85f7-98d3a31ee62c"
      },
      "outputs": [],
      "source": [
        "# load WikiText2 dataset\n",
        "\n",
        "from google.colab import drive\n",
        "drive.mount('/content/drive')\n",
        "!unzip '/content/drive/MyDrive/Colab Notebooks/Howsam Projects/Data/1-language modeling/wikitext-2.zip' -d  '/content/'"
      ]
    },
    {
      "cell_type": "markdown",
      "metadata": {
        "id": "wCi-ofSLCzop"
      },
      "source": [
        "## 2- **Build vocabulary and save it**"
      ]
    },
    {
      "cell_type": "markdown",
      "metadata": {
        "id": "L02PHFuyNRb3"
      },
      "source": [
        " In this section we Tokenize the dataset using `basic_english` and Build the vocabulary"
      ]
    },
    {
      "cell_type": "code",
      "execution_count": null,
      "metadata": {
        "colab": {
          "base_uri": "https://localhost:8080/",
          "height": 0
        },
        "id": "Cf_fDMfNvex7",
        "outputId": "4739e9a9-7615-47e1-af7c-4149100e64ab"
      },
      "outputs": [],
      "source": [
        "def text_read_iterator(token_path ):\n",
        "  with io.open(token_path, encoding = 'utf-8') as f:\n",
        "    for line in f:\n",
        "      yield line"
      ]
    },
    {
      "cell_type": "code",
      "execution_count": null,
      "metadata": {
        "colab": {
          "base_uri": "https://localhost:8080/",
          "height": 0
        },
        "id": "PA8Ca0mxumWR",
        "outputId": "a0e9b6e5-ac95-4c87-8beb-a0f19d84b4f2"
      },
      "outputs": [],
      "source": [
        "tokenizer= get_tokenizer('basic_english')\n",
        "\n",
        "# create vocabs, insert special tokens and set the default index\n",
        "vocabs = build_vocab_from_iterator(map(tokenizer,text_read_iterator('/content/wikitext-2/wiki.train.tokens'))\n",
        ",min_freq=1, specials=[\"<unk>\"])\n",
        "\n",
        "# this would prevent error and returns 0 index, if a word was not in the vocab\n",
        "vocabs.set_default_index(vocabs['<unk>'])"
      ]
    },
    {
      "cell_type": "markdown",
      "metadata": {
        "id": "B29jrEvwRqXA"
      },
      "source": [
        "## 3- **EDA**"
      ]
    },
    {
      "cell_type": "markdown",
      "metadata": {
        "id": "pHtoYxEPd3bL"
      },
      "source": [
        "###  Let's explore the WikiText2 dataset!"
      ]
    },
    {
      "cell_type": "markdown",
      "metadata": {
        "id": "A3rnR739GbYb"
      },
      "source": [
        "###  Calculate basic statistics such as the number of documents, total words, average document length, etc."
      ]
    },
    {
      "cell_type": "code",
      "execution_count": null,
      "metadata": {
        "id": "jHVKeKwk2WaG"
      },
      "outputs": [],
      "source": [
        "doc_count = 0\n",
        "avg_sen_len=0\n",
        "for sentence in text_read_iterator('/content/wikitext-2/wiki.train.tokens'):\n",
        "  if(len(sentence)>0):\n",
        "    doc_count+= 1\n",
        "    avg_sen_len+= len(sentence)\n",
        "\n",
        "print(f\"Number of Documents: {doc_count}\")\n",
        "print(f\"Average Doc Length: {avg_sen_len/doc_count}\")\n",
        "\n"
      ]
    },
    {
      "cell_type": "markdown",
      "metadata": {
        "id": "a4HyLPqcsF43"
      },
      "source": [
        "###  Analyze the most common and least common words in the dataset."
      ]
    },
    {
      "cell_type": "code",
      "execution_count": null,
      "metadata": {
        "id": "cBnEjagdTN8n"
      },
      "outputs": [],
      "source": [
        "word_freq = Counter()\n",
        "for sentence in text_read_iterator('/content/wikitext-2/wiki.train.tokens'):\n",
        "  word_freq.update(sentence.split())\n",
        "\n",
        "word_freq.most_common()"
      ]
    },
    {
      "cell_type": "code",
      "execution_count": null,
      "metadata": {
        "id": "E9iKiElzgheg"
      },
      "outputs": [],
      "source": [
        "word_freq.most_common()[-10:]"
      ]
    },
    {
      "cell_type": "markdown",
      "metadata": {
        "id": "cfBasjQCE_aI"
      },
      "source": [
        "###   Please proceed with further exploration of the dataset. what do you suggest?"
      ]
    },
    {
      "cell_type": "code",
      "execution_count": null,
      "metadata": {
        "id": "_DSDq70ai9Tg"
      },
      "outputs": [],
      "source": [
        "get =text_read_iterator('/content/wikitext-2/wiki.test.tokens')"
      ]
    },
    {
      "cell_type": "code",
      "execution_count": null,
      "metadata": {
        "id": "yR8uQsv4E_aJ"
      },
      "outputs": [],
      "source": [
        "sentences =next(get).split('.')\n",
        "sentences"
      ]
    },
    {
      "cell_type": "code",
      "execution_count": null,
      "metadata": {
        "id": "2Cbe0DMBjDef"
      },
      "outputs": [],
      "source": [
        "df = pd.DataFrame([sentences],columns=['txt'])\n",
        "df['txt'].str.len().hist()"
      ]
    },
    {
      "cell_type": "code",
      "execution_count": null,
      "metadata": {
        "id": "86eRQWqllIdJ"
      },
      "outputs": [],
      "source": [
        "x, y= [], []\n",
        "for word,count in word_freq.most_common()[50:70]:\n",
        "  x.append(word)\n",
        "  y.append(count)\n",
        "\n",
        "sns.barplot(x=y,y=x)"
      ]
    },
    {
      "cell_type": "markdown",
      "metadata": {
        "id": "idRexFij4wgN"
      },
      "source": [
        "## 4- **Transform the data**"
      ]
    },
    {
      "cell_type": "markdown",
      "metadata": {
        "id": "2VjvBOtvHu2v"
      },
      "source": [
        "perform the transformations on train, validation and test datasets."
      ]
    },
    {
      "cell_type": "markdown",
      "metadata": {
        "id": "ApisIcGeGSsJ"
      },
      "source": [
        "Reshape the dataset into an `N x B x L` or `M x L` format, where `N` represents the number of batches, `B` is the batch size, `L` is the length of a sample within each batch, and `M` is equal to `N x B`."
      ]
    },
    {
      "cell_type": "code",
      "execution_count": null,
      "metadata": {
        "colab": {
          "base_uri": "https://localhost:8080/",
          "height": 0
        },
        "id": "ocxM8YdsWH-1",
        "outputId": "7afd5e56-35c7-4090-f228-c5c6661aaf81"
      },
      "outputs": [],
      "source": [
        "def data_process(raw_text_iter, seq_len):\n",
        "  data = torch.cat([torch.LongTensor(vocabs(tokenizer(line))) for line in raw_text_iter])\n",
        "  print(data.shape)\n",
        "  M = len(data)// seq_len\n",
        "  r = len(data) % seq_len\n",
        "  data = torch.cat((data,torch.LongTensor([0])))  if r==0 else data\n",
        "\n",
        "  inputs = data[: M*seq_len]\n",
        "  targets = data[1:M*seq_len+1]\n",
        "\n",
        "  inputs = inputs.reshape(-1,seq_len)\n",
        "  targets = targets.reshape(-1,seq_len)\n",
        "  print(inputs.shape, targets.shape)\n",
        "\n",
        "  return inputs, targets"
      ]
    },
    {
      "cell_type": "code",
      "execution_count": null,
      "metadata": {
        "colab": {
          "base_uri": "https://localhost:8080/",
          "height": 0
        },
        "id": "4GndG2B0WPIb",
        "outputId": "ca4be0e2-9436-4ed3-e46c-a69c3156db44"
      },
      "outputs": [],
      "source": [
        "seq_len =35\n",
        "tr_gen = text_read_iterator('/content/wikitext-2/wiki.train.tokens')\n",
        "val_gen = text_read_iterator('/content/wikitext-2/wiki.valid.tokens')\n",
        "test_gen = text_read_iterator('/content/wikitext-2/wiki.test.tokens')\n",
        "xtrain, ytrain =data_process(tr_gen, seq_len)\n",
        "xval, yval = data_process(val_gen,seq_len)\n",
        "xtest, ytest = data_process(test_gen,seq_len)\n"
      ]
    },
    {
      "cell_type": "markdown",
      "metadata": {
        "id": "PgLgP04P4-aX"
      },
      "source": [
        "## 5-**Custom dataset**"
      ]
    },
    {
      "cell_type": "markdown",
      "metadata": {
        "id": "XkxH_IR2PBNq"
      },
      "source": [
        "\n",
        "Write a custom dataset class for LanguageModelDataset."
      ]
    },
    {
      "cell_type": "code",
      "execution_count": null,
      "metadata": {
        "colab": {
          "base_uri": "https://localhost:8080/",
          "height": 0
        },
        "id": "1cjpSkrtexap",
        "outputId": "edf56587-f56a-4636-cd93-427d428bc3b0"
      },
      "outputs": [],
      "source": [
        "class LanguageModelDataset(Dataset):\n",
        "\n",
        "  def __init__(self, inputs, targets):\n",
        "    self.inputs= inputs\n",
        "    self.targets= targets\n",
        "\n",
        "  def __len__(self):\n",
        "    return self.inputs.shape[0]\n",
        "\n",
        "  def __getitem__(self, idx):\n",
        "    return self.inputs[idx], self.targets[idx]\n"
      ]
    },
    {
      "cell_type": "code",
      "execution_count": 25,
      "metadata": {
        "colab": {
          "base_uri": "https://localhost:8080/",
          "height": 0
        },
        "id": "o0qUkL0CfQmr",
        "outputId": "aa60e1e4-889a-4f83-a450-ba09a4856dca"
      },
      "outputs": [
        {
          "data": {
            "text/html": [
              "<style>\n",
              "  body{\n",
              "    font-size: 16px;\n",
              "  } "
            ],
            "text/plain": [
              "<IPython.core.display.HTML object>"
            ]
          },
          "metadata": {},
          "output_type": "display_data"
        }
      ],
      "source": [
        "train_set = LanguageModelDataset(xtrain, ytrain)\n",
        "valid_set = LanguageModelDataset(xval, yval)\n",
        "test_set = LanguageModelDataset(xtest, ytest)"
      ]
    },
    {
      "cell_type": "markdown",
      "metadata": {
        "id": "NCQjacybOfqV"
      },
      "source": [
        "## 6- **Define a dataloader if needed**"
      ]
    },
    {
      "cell_type": "markdown",
      "metadata": {
        "id": "HqKMEyFNS-1a"
      },
      "source": [
        "🔰 Write dataloaders for the training, validation, and test sets."
      ]
    },
    {
      "cell_type": "code",
      "execution_count": 26,
      "metadata": {
        "colab": {
          "base_uri": "https://localhost:8080/",
          "height": 0
        },
        "id": "KMCJ3UMD0U_f",
        "outputId": "a2f362ef-65b1-4342-9aec-17c14fbdb572"
      },
      "outputs": [
        {
          "data": {
            "text/html": [
              "<style>\n",
              "  body{\n",
              "    font-size: 16px;\n",
              "  } "
            ],
            "text/plain": [
              "<IPython.core.display.HTML object>"
            ]
          },
          "metadata": {},
          "output_type": "display_data"
        }
      ],
      "source": [
        "batch_size= 20\n",
        "train_loader= DataLoader(train_set, batch_size=batch_size, shuffle= True )\n",
        "valid_loader= DataLoader(valid_set, batch_size=batch_size, shuffle= False)\n",
        "test_loader= DataLoader(test_set, batch_size=batch_size, shuffle=False)\n"
      ]
    },
    {
      "cell_type": "markdown",
      "metadata": {
        "id": "3ttl0AK3Hvyh"
      },
      "source": [
        "#  **Model**"
      ]
    },
    {
      "cell_type": "markdown",
      "metadata": {
        "id": "06p-oBowTf-R"
      },
      "source": [
        "a custom model consists of three parts.\n",
        "\n",
        "*   an embedding layer\n",
        "*   an LSTM layer\n",
        "*   a fully connected layer"
      ]
    },
    {
      "cell_type": "code",
      "execution_count": 28,
      "metadata": {
        "colab": {
          "base_uri": "https://localhost:8080/",
          "height": 0
        },
        "id": "ISnnHE0BMVqp",
        "outputId": "278fcb66-07a7-4669-b81c-355afaa7d33b"
      },
      "outputs": [
        {
          "data": {
            "text/html": [
              "<style>\n",
              "  body{\n",
              "    font-size: 16px;\n",
              "  } "
            ],
            "text/plain": [
              "<IPython.core.display.HTML object>"
            ]
          },
          "metadata": {},
          "output_type": "display_data"
        }
      ],
      "source": [
        "class LanguageModel(nn.Module):\n",
        "\n",
        "  def __init__(self, vocab_size, embedding_dim, hidden_dim, num_layers\n",
        "               , dropout_embd=0.5, dropout_rnn=0.5):\n",
        "    super().__init__()\n",
        "    self.num_layers = num_layers\n",
        "    self.hidden_dim = hidden_dim\n",
        "    self.embedding_dim= embedding_dim\n",
        "\n",
        "    self.Embedding = nn.Embedding(vocab_size, embedding_dim)\n",
        "    self.Embedding.weight.data.uniform_(-0.1,0.1)\n",
        "    self.dropout= nn.Dropout(p= dropout_embd)\n",
        "\n",
        "    self.lstm = nn.LSTM(embedding_dim, hidden_dim,num_layers=num_layers\n",
        "                        , dropout= dropout_rnn, batch_first=True)\n",
        "\n",
        "    self.fc = nn.Linear(hidden_dim,vocab_size )\n",
        "\n",
        "  def forward(self, src):\n",
        "    embed_out = self.dropout(self.Embedding(src))\n",
        "    lstm_out, hidden = self.lstm(embed_out)\n",
        "    prediction= self.fc(lstm_out)\n",
        "    return prediction\n"
      ]
    },
    {
      "cell_type": "code",
      "execution_count": 29,
      "metadata": {
        "colab": {
          "base_uri": "https://localhost:8080/",
          "height": 0
        },
        "id": "2MgBVzorb9oQ",
        "outputId": "6e759c28-7c8f-4b96-ae96-f67c8ac7f46b"
      },
      "outputs": [
        {
          "data": {
            "text/html": [
              "<style>\n",
              "  body{\n",
              "    font-size: 16px;\n",
              "  } "
            ],
            "text/plain": [
              "<IPython.core.display.HTML object>"
            ]
          },
          "metadata": {},
          "output_type": "display_data"
        },
        {
          "data": {
            "text/plain": [
              "LanguageModel(\n",
              "  (Embedding): Embedding(28782, 300)\n",
              "  (dropout): Dropout(p=0.65, inplace=False)\n",
              "  (lstm): LSTM(300, 512, num_layers=2, batch_first=True, dropout=0.5)\n",
              "  (fc): Linear(in_features=512, out_features=28782, bias=True)\n",
              ")"
            ]
          },
          "execution_count": 29,
          "metadata": {},
          "output_type": "execute_result"
        }
      ],
      "source": [
        "device = 'cuda' if torch.cuda.is_available() else 'cpu'\n",
        "model = LanguageModel(vocab_size= len(vocabs), embedding_dim= 300\n",
        "                      ,hidden_dim= 512, num_layers= 2, dropout_embd= 0.65, dropout_rnn= 0.5 ).to(device)\n",
        "model"
      ]
    },
    {
      "cell_type": "code",
      "execution_count": 30,
      "metadata": {
        "colab": {
          "base_uri": "https://localhost:8080/",
          "height": 0
        },
        "id": "zrs_L-9PswaE",
        "outputId": "07a1d6e1-4dcf-43d9-e67e-c69f812304e5"
      },
      "outputs": [
        {
          "data": {
            "text/html": [
              "<style>\n",
              "  body{\n",
              "    font-size: 16px;\n",
              "  } "
            ],
            "text/plain": [
              "<IPython.core.display.HTML object>"
            ]
          },
          "metadata": {},
          "output_type": "display_data"
        },
        {
          "data": {
            "text/plain": [
              "(8.6346, 3.76832, 14.765166)"
            ]
          },
          "execution_count": 30,
          "metadata": {},
          "output_type": "execute_result"
        }
      ],
      "source": [
        "num_trainable_params(model.Embedding),num_trainable_params(model.lstm),num_trainable_params(model.fc)"
      ]
    },
    {
      "cell_type": "markdown",
      "metadata": {
        "id": "24qT-sgUO2-d"
      },
      "source": [
        "#  **Config**"
      ]
    },
    {
      "cell_type": "markdown",
      "metadata": {
        "id": "bwYDJKjuduUT"
      },
      "source": [
        "the optimizer, loss function, metrics and other necessary parameters in this section are defined, and ensure the model is sent to the appropriate device."
      ]
    },
    {
      "cell_type": "code",
      "execution_count": null,
      "metadata": {
        "colab": {
          "base_uri": "https://localhost:8080/",
          "height": 17
        },
        "id": "9ubk3xKaIG6i",
        "outputId": "2724dd8e-ad87-4330-8917-cea9403215dc"
      },
      "outputs": [
        {
          "data": {
            "text/html": [
              "<style>\n",
              "  body{\n",
              "    font-size: 16px;\n",
              "  } "
            ],
            "text/plain": [
              "<IPython.core.display.HTML object>"
            ]
          },
          "metadata": {},
          "output_type": "display_data"
        }
      ],
      "source": [
        "device = 'cuda' if torch.cuda.is_available() else 'cpu'\n",
        "clip= 0.25\n",
        "\n",
        "loss_fn = nn.CrossEntropyLoss()\n",
        "metric = tm.text.Perplexity().to(device)\n",
        "optimizer = optim.SGD(model.parameters(),lr=0.5, weight_decay=0, momentum=0.9)"
      ]
    },
    {
      "cell_type": "markdown",
      "metadata": {
        "id": "W0QNbC0YPCKZ"
      },
      "source": [
        "#  **Train**"
      ]
    },
    {
      "cell_type": "markdown",
      "metadata": {
        "id": "yS6EF4HUhi5e"
      },
      "source": [
        "This is the template for train function."
      ]
    },
    {
      "cell_type": "code",
      "execution_count": null,
      "metadata": {
        "colab": {
          "base_uri": "https://localhost:8080/",
          "height": 0
        },
        "id": "WniOAgk0QyRI",
        "outputId": "2b97b153-e10d-45e2-f29f-fd6aee9572f4"
      },
      "outputs": [
        {
          "data": {
            "text/html": [
              "<style>\n",
              "  body{\n",
              "    font-size: 16px;\n",
              "  } "
            ],
            "text/plain": [
              "<IPython.core.display.HTML object>"
            ]
          },
          "metadata": {},
          "output_type": "display_data"
        }
      ],
      "source": [
        "def train_one_epoch(model, train_loader, loss_fn, optimizer, metric, epoch=None):\n",
        "  model.train()\n",
        "  loss_train = AverageMeter()\n",
        "  metric.reset()\n",
        "\n",
        "  with tqdm.tqdm(train_loader, unit='batch') as tepoch:\n",
        "    for inputs, targets in tepoch:\n",
        "      if epoch:\n",
        "        tepoch.set_description(f'Epoch {epoch}:')\n",
        "\n",
        "      inputs = inputs.to(device)\n",
        "      targets = targets.to(device)\n",
        "\n",
        "      outputs = model(inputs)\n",
        "\n",
        "      loss = loss_fn(outputs.reshape(-1,outputs.shape[-1]), targets.flatten())\n",
        "\n",
        "      loss.backward()\n",
        "      nn.utils.clip_grad_norm_(model.parameters(), max_norm= clip)\n",
        "\n",
        "      optimizer.step()\n",
        "      optimizer.zero_grad()\n",
        "\n",
        "      loss_train.update(loss.item(), n=len(targets))\n",
        "      metric.update(outputs, targets)\n",
        "\n",
        "      tepoch.set_postfix(loss=loss_train.avg, metric=metric.compute().item())\n",
        "\n",
        "  return model, loss_train.avg, metric.compute().item()"
      ]
    },
    {
      "cell_type": "markdown",
      "metadata": {
        "id": "G9HgVWslPGsH"
      },
      "source": [
        "#  **Evaluation**"
      ]
    },
    {
      "cell_type": "markdown",
      "metadata": {
        "id": "TsszJ7GVj2l3"
      },
      "source": [
        "This is the template for evaluation function."
      ]
    },
    {
      "cell_type": "code",
      "execution_count": null,
      "metadata": {
        "colab": {
          "base_uri": "https://localhost:8080/",
          "height": 0
        },
        "id": "uV0_67_ZQ0xf",
        "outputId": "ab8a510a-c1ba-4edd-906e-aa180b16b75a"
      },
      "outputs": [
        {
          "data": {
            "text/html": [
              "<style>\n",
              "  body{\n",
              "    font-size: 16px;\n",
              "  } "
            ],
            "text/plain": [
              "<IPython.core.display.HTML object>"
            ]
          },
          "metadata": {},
          "output_type": "display_data"
        }
      ],
      "source": [
        "def evaluate(model, test_loader, loss_fn, metric):\n",
        "  model.eval()\n",
        "  loss_eval = AverageMeter()\n",
        "  metric.reset()\n",
        "\n",
        "  with torch.inference_mode():\n",
        "    for inputs, targets in test_loader:\n",
        "      inputs = inputs.to(device)\n",
        "      targets = targets.to(device)\n",
        "\n",
        "      outputs = model(inputs)\n",
        "\n",
        "      loss = loss_fn(outputs.reshape(-1,outputs.shape[-1]), targets.flatten())\n",
        "      loss_eval.update(loss.item(), n=len(targets))\n",
        "\n",
        "      metric(outputs, targets)\n",
        "\n",
        "  return loss_eval.avg, metric.compute().item()"
      ]
    },
    {
      "cell_type": "markdown",
      "metadata": {
        "id": "o_5f69nwPtY2"
      },
      "source": [
        "#  **Training Process**"
      ]
    },
    {
      "cell_type": "markdown",
      "metadata": {
        "id": "De7VreNxQdct"
      },
      "source": [
        "##  Finding Hyper-parameters"
      ]
    },
    {
      "cell_type": "markdown",
      "metadata": {
        "id": "lpJ3wtyctQJH"
      },
      "source": [
        "###  **Step 1:** Calculate the loss for an untrained model using a few batches.\n"
      ]
    },
    {
      "cell_type": "code",
      "execution_count": null,
      "metadata": {
        "colab": {
          "base_uri": "https://localhost:8080/"
        },
        "id": "QnE4F4GkzzaR",
        "outputId": "36d954e9-b3f6-41dd-9f55-46d050d82631"
      },
      "outputs": [
        {
          "name": "stdout",
          "output_type": "stream",
          "text": [
            "tensor(10.2671, device='cuda:0')\n"
          ]
        }
      ],
      "source": [
        "model = LanguageModel(len(vocabs), embedding_dim=300, hidden_dim=512\n",
        "                      , num_layers=2, dropout_embd=.5, dropout_rnn= 0.5).to(device)\n",
        "\n",
        "inputs, targets = next(iter(train_set))\n",
        "inputs = inputs.to(device)\n",
        "targets = targets.to(device)\n",
        "\n",
        "with torch.no_grad():\n",
        "  outputs = model(inputs)\n",
        "  loss = loss_fn(outputs, targets)\n",
        "\n",
        "\n",
        "print(loss)"
      ]
    },
    {
      "cell_type": "markdown",
      "metadata": {
        "id": "BrHQCv7q7LF_"
      },
      "source": [
        "###  **Step 2:** Try to train and overfit the model on a small subset of the dataset."
      ]
    },
    {
      "cell_type": "code",
      "execution_count": null,
      "metadata": {
        "id": "G0ji0MXsWaPt"
      },
      "outputs": [],
      "source": [
        "model =LanguageModel(len(vocabs), embedding_dim=300, hidden_dim=512\n",
        "                      , num_layers=2, dropout_embd=.5, dropout_rnn= 0.2)\n",
        "model.to(device)\n",
        "optimizer = torch.optim.SGD(model.parameters(), lr=0.5, momentum=0.9)"
      ]
    },
    {
      "cell_type": "code",
      "execution_count": null,
      "metadata": {
        "id": "kPRZQpPWJ2qv"
      },
      "outputs": [],
      "source": [
        "_, mini_sample_data = random_split(train_set, lengths=[len(train_set)-2000, 2000])\n",
        "mini_dataloader = DataLoader(mini_sample_data, batch_size=20)\n"
      ]
    },
    {
      "cell_type": "code",
      "execution_count": null,
      "metadata": {
        "colab": {
          "base_uri": "https://localhost:8080/"
        },
        "id": "bNrg4d9hWaPt",
        "outputId": "5493b0a1-0ed1-409e-cbda-baf364b7abd4"
      },
      "outputs": [],
      "source": [
        "num_epochs = 30\n",
        "for epoch in range(num_epochs):\n",
        "  model, _, _ = train_one_epoch(model, mini_dataloader, loss_fn, optimizer, metric, epoch)"
      ]
    },
    {
      "cell_type": "markdown",
      "metadata": {
        "id": "BLT4w0ZfAhlJ"
      },
      "source": [
        "###  **Step 3:** Train the model for a limited number of epochs, experimenting with various learning rates."
      ]
    },
    {
      "cell_type": "code",
      "execution_count": null,
      "metadata": {
        "colab": {
          "base_uri": "https://localhost:8080/"
        },
        "id": "Jxz5DXoj61mg",
        "outputId": "42c1cb4d-f78f-4b9f-ddc9-665531663127"
      },
      "outputs": [],
      "source": [
        "num_epochs =2\n",
        "\n",
        "for lr in [5,3,0.8,0.5,0.1]:\n",
        "  print(f'LR={lr}')\n",
        "\n",
        "  model = LanguageModel(len(vocabs),embedding_dim=300, hidden_dim=512\n",
        "                        ,num_layers=2, dropout_embd=0.5\n",
        "                        , dropout_rnn=0.2).to(device)\n",
        "  optimizer = optim.SGD(model.parameters(), lr=lr, weight_decay=0, momentum=0.9)\n",
        "\n",
        "  for epoch in range(num_epochs):\n",
        "    model, _, _ = train_one_epoch(model, train_loader, loss_fn, optimizer, metric, epoch)\n",
        "\n",
        "  print()"
      ]
    },
    {
      "cell_type": "markdown",
      "metadata": {
        "id": "uC2GhaXfA8vC"
      },
      "source": [
        "###  **Step 4:** Create a small grid using the weight decay and the best learning rate.\n",
        "\n",
        "\n",
        "\n"
      ]
    },
    {
      "cell_type": "code",
      "execution_count": null,
      "metadata": {
        "colab": {
          "base_uri": "https://localhost:8080/"
        },
        "id": "a7UeNW3WWaPu",
        "outputId": "ac0077b4-60c6-4e2e-83b4-76956566f9b4"
      },
      "outputs": [],
      "source": [
        "num_epochs =1\n",
        "\n",
        "for lr in [3.]:\n",
        "  for wd in [1e-6, 1e-5, 1e-4]:\n",
        "    print(f'LR={lr}, WD={wd}')\n",
        "\n",
        "    model =  LanguageModel(len(vocabs),embedding_dim=300, hidden_dim=512\n",
        "                        ,num_layers=2, dropout_embd=0.5\n",
        "                        , dropout_rnn=0.2).to(device)\n",
        "    optimizer = optim.SGD(model.parameters(), lr=lr, weight_decay=wd)\n",
        "\n",
        "    for epoch in range(num_epochs):\n",
        "      model, loss, _ = train_one_epoch(model, train_loader, loss_fn, optimizer, metric, epoch)\n",
        "\n",
        "    print()"
      ]
    },
    {
      "cell_type": "markdown",
      "metadata": {
        "id": "Mjd9Z3N1ef3I"
      },
      "source": [
        "###  **Step 5:** Train model for longer epochs using the best model from step 4.\n",
        "\n",
        "\n",
        "\n"
      ]
    },
    {
      "cell_type": "code",
      "execution_count": null,
      "metadata": {
        "colab": {
          "base_uri": "https://localhost:8080/",
          "height": 17
        },
        "id": "IWgkMgC6JWpU",
        "outputId": "e9824fd7-cce7-4a95-dfd1-967784cc2301"
      },
      "outputs": [
        {
          "data": {
            "text/html": [
              "<style>\n",
              "  body{\n",
              "    font-size: 16px;\n",
              "  } "
            ],
            "text/plain": [
              "<IPython.core.display.HTML object>"
            ]
          },
          "metadata": {},
          "output_type": "display_data"
        }
      ],
      "source": [
        "model = LanguageModel(len(vocabs),embedding_dim=300, hidden_dim=512\n",
        "                        ,num_layers=2, dropout_embd=0.5\n",
        "                        , dropout_rnn=0.2).to(device)"
      ]
    },
    {
      "cell_type": "code",
      "execution_count": null,
      "metadata": {
        "colab": {
          "base_uri": "https://localhost:8080/",
          "height": 17
        },
        "id": "h50Gcrbb-Qnv",
        "outputId": "935ecaa6-4066-4252-e9a2-da1e056657ee"
      },
      "outputs": [
        {
          "data": {
            "text/html": [
              "<style>\n",
              "  body{\n",
              "    font-size: 16px;\n",
              "  } "
            ],
            "text/plain": [
              "<IPython.core.display.HTML object>"
            ]
          },
          "metadata": {},
          "output_type": "display_data"
        }
      ],
      "source": [
        "model = torch.load('model.pt')"
      ]
    },
    {
      "cell_type": "code",
      "execution_count": null,
      "metadata": {
        "colab": {
          "base_uri": "https://localhost:8080/",
          "height": 17
        },
        "id": "YVwLp-02JWpV",
        "outputId": "c5b7fa16-e7b6-421e-bb3d-cf17d826e56c"
      },
      "outputs": [
        {
          "data": {
            "text/html": [
              "<style>\n",
              "  body{\n",
              "    font-size: 16px;\n",
              "  } "
            ],
            "text/plain": [
              "<IPython.core.display.HTML object>"
            ]
          },
          "metadata": {},
          "output_type": "display_data"
        }
      ],
      "source": [
        "lr = 0.5\n",
        "wd = 1e-6\n",
        "optimizer = optim.SGD(model.parameters(), lr=lr, weight_decay=wd, momentum=0.9)"
      ]
    },
    {
      "cell_type": "code",
      "execution_count": null,
      "metadata": {
        "colab": {
          "base_uri": "https://localhost:8080/",
          "height": 17
        },
        "id": "zqxSVVB7JWpW",
        "outputId": "76d65ec0-3d1e-48ff-88f1-a9591f4e14e3"
      },
      "outputs": [
        {
          "data": {
            "text/html": [
              "<style>\n",
              "  body{\n",
              "    font-size: 16px;\n",
              "  } "
            ],
            "text/plain": [
              "<IPython.core.display.HTML object>"
            ]
          },
          "metadata": {},
          "output_type": "display_data"
        }
      ],
      "source": [
        "loss_train_hist = []\n",
        "loss_valid_hist = []\n",
        "\n",
        "metric_train_hist = []\n",
        "metric_valid_hist = []\n",
        "\n",
        "best_loss_valid = torch.inf\n",
        "epoch_counter = 0"
      ]
    },
    {
      "cell_type": "code",
      "execution_count": null,
      "metadata": {
        "collapsed": true,
        "id": "eVqS9SEPJWpW"
      },
      "outputs": [],
      "source": [
        "num_epochs =15\n",
        "\n",
        "for epoch in range(1, num_epochs+1):\n",
        "  # Train\n",
        "  model, loss_train, metric_train = train_one_epoch(model,\n",
        "                                                 train_loader,\n",
        "                                                 loss_fn,\n",
        "                                                 optimizer,\n",
        "                                                 metric,\n",
        "                                                 epoch)\n",
        "  # Validation\n",
        "  loss_valid, metric_valid = evaluate(model,\n",
        "                                     valid_loader,\n",
        "                                     loss_fn,\n",
        "                                     metric)\n",
        "\n",
        "  loss_train_hist.append(loss_train)\n",
        "  loss_valid_hist.append(loss_valid)\n",
        "\n",
        "  metric_train_hist.append(metric_train)\n",
        "  metric_valid_hist.append(metric_valid)\n",
        "\n",
        "  if loss_valid < best_loss_valid:\n",
        "    torch.save(model, f'model.pt')\n",
        "    best_loss_valid = loss_valid\n",
        "    print('Model Saved!')\n",
        "\n",
        "  print(f'Valid: Loss = {loss_valid:.4}, Metric = {metric_valid:.4}')\n",
        "  print()\n",
        "\n",
        "  epoch_counter += 1"
      ]
    },
    {
      "cell_type": "markdown",
      "metadata": {
        "id": "rjGQ-M02cusP"
      },
      "source": [
        "##  Main Loop"
      ]
    },
    {
      "cell_type": "markdown",
      "metadata": {
        "id": "4AdYaMU4x34g"
      },
      "source": [
        "Define model."
      ]
    },
    {
      "cell_type": "code",
      "execution_count": null,
      "metadata": {
        "id": "JCtZXDybxexf"
      },
      "outputs": [],
      "source": [
        "model ="
      ]
    },
    {
      "cell_type": "markdown",
      "metadata": {
        "id": "AUKZRiQPxqrB"
      },
      "source": [
        "Define optimizer and Set learning rate and weight decay."
      ]
    },
    {
      "cell_type": "code",
      "execution_count": null,
      "metadata": {
        "id": "bowjVB5yIXUP"
      },
      "outputs": [],
      "source": [
        "lr =\n",
        "wd =\n",
        "optimizer = optim.SGD(model.parameters(), lr=lr, weight_decay=wd, momentum=0.9, nesterov=True)"
      ]
    },
    {
      "cell_type": "markdown",
      "metadata": {
        "id": "AUyFFIzlyaiB"
      },
      "source": [
        " Write code to train the model for `num_epochs` epoches."
      ]
    },
    {
      "cell_type": "code",
      "execution_count": null,
      "metadata": {
        "id": "CAXagB4yvtZd"
      },
      "outputs": [],
      "source": [
        "loss_train_hist = []\n",
        "loss_valid_hist = []\n",
        "\n",
        "metric_train_hist = []\n",
        "metric_valid_hist = []\n",
        "\n",
        "best_loss_valid = torch.inf\n",
        "epoch_counter = 0"
      ]
    },
    {
      "cell_type": "code",
      "execution_count": null,
      "metadata": {
        "id": "PovABWnU3ld0"
      },
      "outputs": [],
      "source": [
        "num_epochs =\n",
        "\n",
        "for epoch in range(num_epochs):\n",
        "  # Train\n",
        "  model, loss_train, metric_train = train_one_epoch(model,\n",
        "                                                 train_set,\n",
        "                                                 loss_fn,\n",
        "                                                 optimizer,\n",
        "                                                 metric,\n",
        "                                                 epoch)\n",
        "  # Validation\n",
        "  loss_valid, metric_valid = evaluate(model,\n",
        "                                     valid_set,\n",
        "                                     loss_fn,\n",
        "                                     metric)\n",
        "\n",
        "  loss_train_hist.append(loss_train)\n",
        "  loss_valid_hist.append(loss_valid)\n",
        "\n",
        "  metric_train_hist.append(metric_train)\n",
        "  metric_valid_hist.append(metric_valid)\n",
        "\n",
        "  if loss_valid < best_loss_valid:\n",
        "    torch.save(model, f'model.pt')\n",
        "    best_loss_valid = loss_valid\n",
        "    print('Model Saved!')\n",
        "\n",
        "  print(f'Valid: Loss = {loss_valid:.4}, Metric = {metric_valid:.4}')\n",
        "  print()\n",
        "\n",
        "  epoch_counter += 1"
      ]
    },
    {
      "cell_type": "markdown",
      "metadata": {
        "id": "oK20iNRI3Xxb"
      },
      "source": [
        "##  Plot"
      ]
    },
    {
      "cell_type": "markdown",
      "metadata": {
        "id": "IKlLvCwuzEAA"
      },
      "source": [
        "Plot learning curves"
      ]
    },
    {
      "cell_type": "code",
      "execution_count": null,
      "metadata": {
        "colab": {
          "base_uri": "https://localhost:8080/",
          "height": 562
        },
        "id": "KYFzTsdIOkVp",
        "outputId": "cdcc9552-94f4-4331-c637-9257d4e570ed"
      },
      "outputs": [
        {
          "data": {
            "text/html": [
              "<style>\n",
              "  body{\n",
              "    font-size: 16px;\n",
              "  } "
            ],
            "text/plain": [
              "<IPython.core.display.HTML object>"
            ]
          },
          "metadata": {},
          "output_type": "display_data"
        },
        {
          "data": {
            "text/plain": [
              "<matplotlib.legend.Legend at 0x7c671024de40>"
            ]
          },
          "execution_count": 53,
          "metadata": {},
          "output_type": "execute_result"
        },
        {
          "data": {
            "image/png": "[encoded data removed]",
            "text/plain": [
              "<Figure size 800x600 with 1 Axes>"
            ]
          },
          "metadata": {},
          "output_type": "display_data"
        }
      ],
      "source": [
        "plt.figure(figsize=(8, 6))\n",
        "\n",
        "plt.plot(range(10), loss_train_hist2, 'r-', label='Train')\n",
        "plt.plot(range(10), loss_valid_hist2, 'b-', label='Validation')\n",
        "\n",
        "plt.xlabel('Epoch')\n",
        "plt.ylabel('loss')\n",
        "plt.grid(True)\n",
        "plt.legend()"
      ]
    },
    {
      "cell_type": "markdown",
      "metadata": {
        "id": "KZ9UIdmkfxlA"
      },
      "source": [
        "#  **Test**"
      ]
    },
    {
      "cell_type": "markdown",
      "metadata": {
        "id": "SO8iPWH1zVYn"
      },
      "source": [
        " Test your model using data from the test set"
      ]
    },
    {
      "cell_type": "code",
      "execution_count": null,
      "metadata": {
        "colab": {
          "base_uri": "https://localhost:8080/"
        },
        "id": "USGRGS-7xIfe",
        "outputId": "e9f4df60-6aab-464a-c540-b8b4914a7f78"
      },
      "outputs": [
        {
          "data": {
            "text/html": [
              "<style>\n",
              "  body{\n",
              "    font-size: 16px;\n",
              "  } "
            ],
            "text/plain": [
              "<IPython.core.display.HTML object>"
            ]
          },
          "metadata": {},
          "output_type": "display_data"
        },
        {
          "data": {
            "text/plain": [
              "LanguageModel(\n",
              "  (Embedding): Embedding(28782, 300)\n",
              "  (dropout): Dropout(p=0.5, inplace=False)\n",
              "  (lstm): LSTM(300, 512, num_layers=2, batch_first=True, dropout=0.2)\n",
              "  (fc): Linear(in_features=512, out_features=28782, bias=True)\n",
              ")"
            ]
          },
          "execution_count": 37,
          "metadata": {},
          "output_type": "execute_result"
        }
      ],
      "source": [
        "# put your saved model path\n",
        "model_path =''\n",
        "\n",
        "model = torch.load(model_path)\n",
        "model.eval()"
      ]
    },
    {
      "cell_type": "code",
      "execution_count": null,
      "metadata": {
        "colab": {
          "base_uri": "https://localhost:8080/"
        },
        "id": "__YxcCtfxOi0",
        "outputId": "809976e1-ca90-447a-8e99-aad5b6ec54a5"
      },
      "outputs": [],
      "source": [
        "loss_test, metric_test = evaluate(model, test_loader, loss_fn, metric)\n",
        "metric_test"
      ]
    },
    {
      "cell_type": "code",
      "execution_count": null,
      "metadata": {
        "id": "YQa9mFczku0B"
      },
      "outputs": [],
      "source": [
        "test_iter =iter(test_loader)\n",
        "model.eval()"
      ]
    },
    {
      "cell_type": "code",
      "execution_count": null,
      "metadata": {
        "colab": {
          "base_uri": "https://localhost:8080/"
        },
        "id": "35sn67IhKcm_",
        "outputId": "37247e23-b77b-44fd-fe96-e1fb3ecfa2f3"
      },
      "outputs": [],
      "source": [
        "test_inp , test_targ = next(test_iter)\n",
        "outp = model(test_inp)\n",
        "loss_fn(outp.reshape(-1, outp.shape[-1]), test_targ.flatten())"
      ]
    },
    {
      "cell_type": "markdown",
      "metadata": {
        "id": "FzcQQwFuar_7"
      },
      "source": [
        "#  **Generate**"
      ]
    },
    {
      "cell_type": "markdown",
      "metadata": {
        "id": "jh2_9jUp0GF4"
      },
      "source": [
        "use `generate` function to test the model."
      ]
    },
    {
      "cell_type": "code",
      "execution_count": null,
      "metadata": {
        "id": "pskvb--R-wJ0"
      },
      "outputs": [],
      "source": [
        "model_path = 'model.pt'\n",
        "model = torch.load(model_path)\n",
        "model.eval()"
      ]
    },
    {
      "cell_type": "code",
      "execution_count": null,
      "metadata": {
        "id": "f5SvSDLal8YB"
      },
      "outputs": [],
      "source": [
        "def generate(prompt, max_seq_len, temperature, model, tokenizer, vocab, seed=None):\n",
        "\n",
        "  indices = vocabs(tokenizer(prompt))\n",
        "  itos = vocabs.get_itos()\n",
        "\n",
        "  for i in range(max_seq_len):\n",
        "\n",
        "    index_sample = torch.LongTensor(indices).to(device)\n",
        "    with torch.no_grad():\n",
        "      prediction = model(index_sample)\n",
        "\n",
        "    # Method 1\n",
        "    '''src= src[-1]\n",
        "    outputs= torch.softmax(src)\n",
        "    new_token = argmax(outputs)\n",
        "    vocabs.get_itos()[new_token]'''\n",
        "\n",
        "    # Method 2\n",
        "    preds= torch.softmax(prediction[-1]/temprature, dim=0)\n",
        "\n",
        "    idx= vocab['<unk>']\n",
        "    while idx== vocab['<unk>']:\n",
        "      idx = torch.multinomial(preds, num_samples= 1).item()\n",
        "\n",
        "    new_token =itos[idx]\n",
        "    if new_token=='.':\n",
        "      propmt.append('.')\n",
        "      return prompt\n",
        "\n",
        "    propmt.append(f' {new_token}')\n",
        "\n",
        "  return prompt"
      ]
    },
    {
      "cell_type": "code",
      "execution_count": null,
      "metadata": {
        "id": "MYBlqFs8qSF9"
      },
      "outputs": [],
      "source": [
        "# Enter a desired sentence to evaluate the model\n",
        "\n",
        "sentence= 'this is a nice '\n",
        "generate(prompt=sentence, 15,0.5, model, tokenizer, vocabs)"
      ]
    }
  ],
  "metadata": {
    "accelerator": "GPU",
    "colab": {
      "collapsed_sections": [
        "bcGnOzoVvQAC",
        "CmDRFStevjep",
        "w_a3OXnSeV0z",
        "RwaY_YcgRayy",
        "RTql4Ftiunfr",
        "ujIVtjsYvxOI",
        "wCi-ofSLCzop",
        "B29jrEvwRqXA",
        "A3rnR739GbYb",
        "a4HyLPqcsF43",
        "cfBasjQCE_aI",
        "idRexFij4wgN",
        "PgLgP04P4-aX",
        "NCQjacybOfqV",
        "3ttl0AK3Hvyh",
        "24qT-sgUO2-d",
        "W0QNbC0YPCKZ",
        "G9HgVWslPGsH",
        "De7VreNxQdct",
        "lpJ3wtyctQJH",
        "BrHQCv7q7LF_",
        "BLT4w0ZfAhlJ",
        "uC2GhaXfA8vC",
        "Mjd9Z3N1ef3I",
        "rjGQ-M02cusP",
        "oK20iNRI3Xxb"
      ],
      "gpuType": "L4",
      "machine_shape": "hm",
      "provenance": []
    },
    "kernelspec": {
      "display_name": "Python 3",
      "name": "python3"
    },
    "language_info": {
      "name": "python"
    }
  },
  "nbformat": 4,
  "nbformat_minor": 0
}
